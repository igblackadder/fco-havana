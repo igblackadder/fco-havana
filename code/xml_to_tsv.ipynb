{
 "cells": [
  {
   "cell_type": "code",
   "execution_count": 1,
   "metadata": {},
   "outputs": [],
   "source": [
    "import pandas as pd\n",
    "import bs4\n",
    "import re\n",
    "import chardet\n"
   ]
  },
  {
   "cell_type": "code",
   "execution_count": null,
   "metadata": {},
   "outputs": [],
   "source": [
    "with open(\"./diplomatic_directory.xml\", 'rb') as f:\n",
    "    print(chardet.detect(f.read()))"
   ]
  },
  {
   "cell_type": "code",
   "execution_count": 68,
   "metadata": {},
   "outputs": [],
   "source": [
    "with open(\"./diplomatic_directory.xml\") as file: # Use file to refer to the file object\n",
    "    data = file.read()"
   ]
  },
  {
   "cell_type": "code",
   "execution_count": 70,
   "metadata": {},
   "outputs": [
    {
     "data": {
      "text/plain": [
       "'<?xml version=\"1.0\" encoding=\"UTF-8\"?>\\n<TEI xmlns=\"http://www.tei-c.org/ns/1.0\">\\n    <teiHeader>\\n   '"
      ]
     },
     "execution_count": 70,
     "metadata": {},
     "output_type": "execute_result"
    }
   ],
   "source": [
    "data[:100]"
   ]
  },
  {
   "cell_type": "code",
   "execution_count": 72,
   "metadata": {},
   "outputs": [],
   "source": [
    "xmlDoc=bs4.BeautifulSoup(data, \"xml\")\n",
    "for fullText in xmlDoc.children:\n",
    "    print(type(fullText))"
   ]
  },
  {
   "cell_type": "code",
   "execution_count": 81,
   "metadata": {},
   "outputs": [],
   "source": [
    "A_diplomats = fullText.get_text()[fullText.get_text().find(\"[A]\"):fullText.get_text().find(\"[B]\")].split(\"\\n\\n\")[1:]"
   ]
  },
  {
   "cell_type": "code",
   "execution_count": 487,
   "metadata": {},
   "outputs": [],
   "source": [
    "def split_dates_create_output_line(last_name, yob, yod, full_name, job, location, dates):\n",
    "    if dates.find(\"-\")!=-1:\n",
    "        start, end = dates.split(\"-\")[-2:]\n",
    "        if not start.isdigit():\n",
    "            start = \"\"\n",
    "        if not end.isdigit():\n",
    "            end = \"\"\n",
    "        output = [last_name, yob, yod, full_name, job, location, start, end, \"\"]\n",
    "    else:\n",
    "        if \"(did not proceed)\" in dates:\n",
    "            output = [last_name, yob, yod, full_name, job, location, dates[:4], dates[:4], \"(did not proceed)\" ]\n",
    "            return output\n",
    "        if not dates.isdigit():\n",
    "            dates = \"\"\n",
    "        output = [last_name, yob, yod, full_name, job, location, dates, dates, \"\"]\n",
    "    return output"
   ]
  },
  {
   "cell_type": "code",
   "execution_count": 516,
   "metadata": {},
   "outputs": [],
   "source": [
    "def parse_career(diplomatic_entry):\n",
    "    if diplomatic_entry == [''] or len(diplomatic_entry)==1:\n",
    "        return []\n",
    "    return_list = []\n",
    "    full_name = diplomatic_entry[0]#.split(\"\")[0]\n",
    "    last_name = full_name.split(', ')[0]\n",
    "    \n",
    "    getDob = re.compile(\"\\((\\d*)-(\\d*)\\)*\")\n",
    "    try:\n",
    "        birthDeathObj = getDob.search(full_name)\n",
    "        yob, yod = birthDeathObj.groups()\n",
    "        full_name = full_name[:birthDeathObj.span()[0]].strip()\n",
    "    except AttributeError:\n",
    "        yob, yod = \"\", \"\"\n",
    "\n",
    "    for posting in diplomatic_entry[1].split(\"; \"):\n",
    "        post = posting.split(', ')[:-1]#', '.join(posting.split(', ')[:-1])\n",
    "        if post==\"\":\n",
    "            continue\n",
    "#         post = ', '.join(post)\n",
    "        if len(post)==2:\n",
    "            job = post[0]\n",
    "            location = post[1]\n",
    "        elif len(post)==1:\n",
    "            \n",
    "            if \" to \" in post[0]:\n",
    "                post_split_on_to = post[0].split(\" to \")\n",
    "                if len(post_split_on_to)==2:\n",
    "                    job, location = post[0].split(\" to \")\n",
    "                    job = job.strip()\n",
    "                    location = location.strip()\n",
    "                else:\n",
    "                    job=post[0]\n",
    "                    location=\"\"\n",
    "            else:\n",
    "                job = ', '.join(post)\n",
    "                location=\"\"\n",
    "        else:\n",
    "            job = ', '.join(post)\n",
    "            location=\"\"\n",
    "            \n",
    "        # change the U.S.A to U.S.A etc\n",
    "        if location.startswith(\"the \") or location.startswith(\"The \"):\n",
    "            location = location[4:]\n",
    "            \n",
    "        #edge cases    \n",
    "        if job.find(\"Embassy, \")!=-1:\n",
    "            location_of_start_Embassy = job.find(\"Embassy, \")\n",
    "            location = job[location_of_start_Embassy+len(\"Embassy, \"):]\n",
    "            job = job[:location_of_start_Embassy+len(\"Embassy\")]\n",
    "            \n",
    "        if job.find(\"Governor of \")!=-1:\n",
    "            location_of_start_Governor = job.find(\"Governor of \")\n",
    "            location = job[location_of_start_Governor+len(\"Governor of \"):]\n",
    "            job = job[:location_of_start_Governor+len(\"Governor\")]\n",
    "            \n",
    "        if job.find(\"Consul-General, \")!=-1:\n",
    "            location_of_start_ConsulGen = job.find(\"Consul-General, \")\n",
    "            location = job.split(\", \")[-1]\n",
    "            job = \"Consul-General\"\n",
    "            \n",
    "        if job.find(\"Deputy High Commissioner, \")!=-1:\n",
    "            location_of_start_HighCom = job.find(\"Deputy High Commissioner, \")\n",
    "            location = job.split(\", \")[-1]\n",
    "            job = \"Deputy High Commissioner\"\n",
    "            \n",
    "        if job.find(\"High Commissioner in \")!=-1:\n",
    "            location = job.split(\" in \")[-1]\n",
    "            job = \"High Commissioner\"\n",
    "            \n",
    "        if job.find(\"Counsellor, Legation, \")!=-1:\n",
    "            location = job.split(\", \")[-1]\n",
    "            job = \"Counsellor\"\n",
    "            \n",
    "        if job.find(\"Counsellor, High Commission, \")!=-1:\n",
    "            location = job.split(\", \")[-1]\n",
    "            job = \"Counsellor\"\n",
    "            \n",
    "        if job.find(\"Political Secretary, High Commission, \")!=-1:\n",
    "            location = job.split(\", \")[-1]\n",
    "            job = \"Political Secretary\"\n",
    "            \n",
    "        if job.find(\"Official Secretary, High Commission, \")!=-1:\n",
    "            location = job.split(\", \")[-1]\n",
    "            job =  \"Official Secretary\"\n",
    "            \n",
    "        if job.find(\"Governor-General of \")!=-1:\n",
    "            location = job.split(\" of \")[-1]\n",
    "            job = \"Governor-General\"\n",
    "            \n",
    "        if job.find(\"Counsellor and Head of Chancery, High Commission, \")!=-1:\n",
    "            location = job.split(\" of \")[-1]\n",
    "            job = \"Counsellor and Head of Chancery\"\n",
    "            \n",
    "        if job.find(\"Chancery, High Commission, \")!=-1:\n",
    "            location = job.split(\" of \")[-1]\n",
    "            job = \"Chancery\"\n",
    "            \n",
    "        dates = posting.split(', ')[-1]\n",
    "#         if (\"and\" in dates):\n",
    "#             print(\"todo 'and' in dates\")\n",
    "        position_of_possible_and_in_dates = dates.find('and')\n",
    "        if position_of_possible_and_in_dates == -1:\n",
    "            output = split_dates_create_output_line(last_name, yob, yod, full_name, job, location, dates)\n",
    "            return_list.append(output)\n",
    "        else:\n",
    "            first_posting_dates = dates[:position_of_possible_and_in_dates].strip()\n",
    "            output = split_dates_create_output_line(last_name, yob, yod, full_name, job, location,first_posting_dates) \n",
    "            return_list.append(output)\n",
    "            second_posting_dates = dates[position_of_possible_and_in_dates+3:].strip()\n",
    "            output = split_dates_create_output_line(last_name, yob, yod, full_name, job, location,second_posting_dates)\n",
    "            return_list.append(output)  \n",
    "        \n",
    "    return return_list"
   ]
  },
  {
   "cell_type": "code",
   "execution_count": 517,
   "metadata": {},
   "outputs": [],
   "source": [
    "## Just the A's\n",
    "# with open(\"tidy5.tsv\", 'w') as f:\n",
    "#     header = [\"lastName\", \"yearOfBirth\", \"yearOfDeath\", \"fullName\", \"job\", \"location\", \"yearPostingStart\", \"yearPostingEnd\", \"notes\"]\n",
    "#     f.write(\"\\t\".join(header))\n",
    "#     f.write(\"\\n\")\n",
    "#     for tmp_dip in A_diplomats:\n",
    "#         for entry in parse_career(tmp_dip.strip().split('\\n')):\n",
    "#             f.write(\"\\t\".join(entry))\n",
    "#             f.write(\"\\n\")\n",
    "#             print(\"FINAL\", \"\\t\".join(entry))"
   ]
  },
  {
   "cell_type": "code",
   "execution_count": null,
   "metadata": {},
   "outputs": [],
   "source": []
  },
  {
   "cell_type": "code",
   "execution_count": 518,
   "metadata": {},
   "outputs": [],
   "source": [
    "#problem with appostrophes\n",
    "#A_diplomats[9]"
   ]
  },
  {
   "cell_type": "code",
   "execution_count": 519,
   "metadata": {},
   "outputs": [
    {
     "data": {
      "text/plain": [
       "'\\nALLCHIN, SIR GEOFFREY C., K.B.E., C.M.G., M.C. (1895-1968)\\nHead of Consular Department, Foreign Office, 1943-1947; Inspector-General, 1947-1949; Minister/Ambassador to Luxemburg, 1949-1955'"
      ]
     },
     "execution_count": 519,
     "metadata": {},
     "output_type": "execute_result"
    }
   ],
   "source": [
    "A_diplomats[53]"
   ]
  },
  {
   "cell_type": "code",
   "execution_count": 520,
   "metadata": {},
   "outputs": [
    {
     "data": {
      "text/plain": [
       "'ARTHUR, SIR GEOFFREY G., K.C.M.G. (1920-1984)\\nCounsellor, Embassy, United Arab Republic, 1959-1963; Head of Permanent Under-Secretary’s Department, Foreign Office, 1963-1966; Head of Defence Department, Foreign Office, 1966; Ambassador to Kuwait, 1967-1968; Assistant Under-Secretary for Foreign Affairs (Middle East and North Africa), 1968-1970; Political Resident, Persian Gulf, 1970-1971; Deputy Under-Secretary for Foreign and Commonwealth Affairs (Defence and Intelligence), 1973-1975'"
      ]
     },
     "execution_count": 520,
     "metadata": {},
     "output_type": "execute_result"
    }
   ],
   "source": [
    "A_diplomats[107]"
   ]
  },
  {
   "cell_type": "code",
   "execution_count": 521,
   "metadata": {},
   "outputs": [],
   "source": [
    "def getDiplomatsByInitial():\n",
    "    listOfLetters = [\"A\",\"B\",\"C\",\"D\",\"E\",\"F\",\"G\",\"H\",\"I\",\"J\",\"K\",\"L\",\"M\",\"N\",\"O\",\"P\",\"Q\",\"R\",\"S\",\"T\",\"U\",\"W\",\"Y\",\"Z\", \"SECTION B\"]\n",
    "    for i in range(len(listOfLetters)-1):\n",
    "        start = listOfLetters[i]\n",
    "        end = listOfLetters[i+1]\n",
    "        if start == \"Z\":\n",
    "            yield fullText.get_text()[fullText.get_text().find(\"[\"+start+\"]\"):fullText.get_text().find(end)].split(\"\\n\\n\")[1:]\n",
    "        else:\n",
    "            yield fullText.get_text()[fullText.get_text().find(\"[\"+start+\"]\"):fullText.get_text().find(\"[\"+end+\"]\")].split(\"\\n\\n\")[1:]"
   ]
  },
  {
   "cell_type": "code",
   "execution_count": 522,
   "metadata": {},
   "outputs": [],
   "source": [
    "with open(\"diplomaticPosting.tsv\", 'w') as f:\n",
    "    header = [\"lastName\", \"yearOfBirth\", \"yearOfDeath\", \"fullName\", \"job\", \"location\", \"yearPostingStart\", \"yearPostingEnd\", \"notes\"]\n",
    "    f.write(\"\\t\".join(header))\n",
    "    f.write(\"\\n\")\n",
    "\n",
    "    for dipRecs in getDiplomatsByInitial():\n",
    "        for tmp_dip in dipRecs:\n",
    "            for entry in parse_career(tmp_dip.strip().split('\\n')):\n",
    "                f.write(\"\\t\".join(entry))\n",
    "                f.write(\"\\n\")\n",
    "#                 print(\"FINAL\", \"\\t\".join(entry))"
   ]
  },
  {
   "cell_type": "code",
   "execution_count": null,
   "metadata": {},
   "outputs": [],
   "source": []
  }
 ],
 "metadata": {
  "kernelspec": {
   "display_name": "Python 3",
   "language": "python",
   "name": "python3"
  },
  "language_info": {
   "codemirror_mode": {
    "name": "ipython",
    "version": 3
   },
   "file_extension": ".py",
   "mimetype": "text/x-python",
   "name": "python",
   "nbconvert_exporter": "python",
   "pygments_lexer": "ipython3",
   "version": "3.6.3"
  }
 },
 "nbformat": 4,
 "nbformat_minor": 2
}
