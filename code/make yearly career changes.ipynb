{
 "cells": [
  {
   "cell_type": "code",
   "execution_count": 1,
   "metadata": {},
   "outputs": [],
   "source": [
    "import pandas as pd\n",
    "import numpy as np\n",
    "import io\n",
    "\n",
    "import numpy as np \n",
    "import pandas as pd\n",
    "import seaborn as sns\n",
    "import matplotlib.pyplot as plt\n",
    "\n",
    "%matplotlib inline\n",
    "\n",
    "# using Basemap for map visualization. Installed it with \"conda install basemap\"\n",
    "from mpl_toolkits.basemap import Basemap\n",
    "from matplotlib import animation, rc\n",
    "from IPython.display import HTML\n"
   ]
  },
  {
   "cell_type": "code",
   "execution_count": 2,
   "metadata": {},
   "outputs": [],
   "source": [
    "worldCities = pd.read_csv(\"./world-cities.csv\", encoding='latin1')\n",
    "# worldCities.head()"
   ]
  },
  {
   "cell_type": "code",
   "execution_count": 3,
   "metadata": {},
   "outputs": [],
   "source": [
    "dip = pd.read_csv(\"./diplomaticPosting.tsv\", sep=\"\\t\")\n",
    "# dip.head()"
   ]
  },
  {
   "cell_type": "code",
   "execution_count": 4,
   "metadata": {},
   "outputs": [],
   "source": [
    "dip.location.replace(\"U.S.A.\", \"United States\", inplace=True)\n",
    "dip.location.replace(\"U.S.S.R.\", \"Russia\", inplace=True)\n",
    "\n",
    "dip.location.replace(\"Bosnia Herzegovina\", \"Bosnia and Herzegovina\", inplace=True)\n",
    "dip.location.replace(\"Bosnia-Herzegovina\", \"Bosnia and Herzegovina\", inplace=True)\n",
    "dip.location.replace(\"Buda-Pest\", \"Budapest\", inplace=True)\n",
    "dip.location.replace(\"Camboadia\", \"Cambodia\", inplace=True)\n",
    "\n",
    "dip.location.replace('China (Counsellor)', 'China', inplace=True)\n",
    "dip.location.replace('China, 1912', 'China', inplace=True)\n",
    "dip.location.replace('Israel (did not proceed)', 'Israel', inplace=True)\n",
    "dip.location.replace('Morocco (Rabat)', 'Morocco', inplace=True)\n",
    "dip.location.replace('Russia (Counsellor)', 'Russia', inplace=True)\n",
    "dip.location.replace('Sir Lanka', \"Sri Lanka\", inplace=True)\n",
    "dip.location.replace(\"Tanganykia\", \"Tanzania\", inplace=True)\n",
    "dip.location.replace('The Netherlands', \"Netherlands\", inplace=True)\n",
    "dip.location.replace('Zaire' \"Democratic Republic of Congo\", inplace=True)\n",
    "dip.location.replace(\"Rhodesia\", \"Zimbabwe\", inplace=True)\n",
    "dip.location.replace(\"Southern Rhodesia\", \"Zimbabwe\", inplace=True)\n",
    "dip.location.replace(\"Northern Rhodesia\", \"Zimbabwe\", inplace=True)"
   ]
  },
  {
   "cell_type": "code",
   "execution_count": 5,
   "metadata": {},
   "outputs": [],
   "source": [
    "# np.unique(dip.location.values.astype(str))"
   ]
  },
  {
   "cell_type": "code",
   "execution_count": 6,
   "metadata": {},
   "outputs": [],
   "source": [
    "known_countries = np.unique(worldCities.country.tolist())\n",
    "known_cities = np.unique(worldCities[\"name\"].tolist())"
   ]
  },
  {
   "cell_type": "code",
   "execution_count": 7,
   "metadata": {},
   "outputs": [],
   "source": [
    "# known_countries"
   ]
  },
  {
   "cell_type": "code",
   "execution_count": 8,
   "metadata": {},
   "outputs": [],
   "source": [
    "dip[\"country\"] = dip.location[dip.location.isin(known_countries)]"
   ]
  },
  {
   "cell_type": "code",
   "execution_count": 9,
   "metadata": {},
   "outputs": [],
   "source": [
    "dip[\"city\"] = dip.location[dip.location.isin(known_cities)]"
   ]
  },
  {
   "cell_type": "code",
   "execution_count": 10,
   "metadata": {},
   "outputs": [],
   "source": [
    "# dip"
   ]
  },
  {
   "cell_type": "code",
   "execution_count": 11,
   "metadata": {},
   "outputs": [],
   "source": [
    "dip = dip.merge(worldCities, left_on='city', right_on='name', how='left')"
   ]
  },
  {
   "cell_type": "code",
   "execution_count": 12,
   "metadata": {},
   "outputs": [],
   "source": [
    "dip = dip.drop('name', axis=1)\n",
    "dip = dip.drop('subcountry', axis=1)\n",
    "dip = dip.drop('geonameid', axis=1)"
   ]
  },
  {
   "cell_type": "code",
   "execution_count": 13,
   "metadata": {},
   "outputs": [],
   "source": [
    "dip[\"country\"] = dip.country_y.fillna(dip.country_x)\n",
    "dip = dip.drop('country_y', axis=1)\n",
    "dip = dip.drop('country_x', axis=1)"
   ]
  },
  {
   "cell_type": "code",
   "execution_count": 14,
   "metadata": {},
   "outputs": [],
   "source": [
    "# dip.head()"
   ]
  },
  {
   "cell_type": "code",
   "execution_count": 15,
   "metadata": {},
   "outputs": [],
   "source": [
    "countryCapitals = pd.read_csv(\"./country-capitals.csv\")\n",
    "# countryCapitals.head()"
   ]
  },
  {
   "cell_type": "code",
   "execution_count": 16,
   "metadata": {},
   "outputs": [],
   "source": [
    "dip = dip.merge(countryCapitals, how='left', left_on='country', right_on='CountryName')\n",
    "dip = dip.drop(\"CountryName\", axis=1)"
   ]
  },
  {
   "cell_type": "code",
   "execution_count": 17,
   "metadata": {},
   "outputs": [],
   "source": [
    "dip[\"city\"] = dip.city.fillna(dip.CapitalName)\n",
    "# dip"
   ]
  },
  {
   "cell_type": "code",
   "execution_count": 58,
   "metadata": {},
   "outputs": [],
   "source": [
    "listOfNames = np.unique(dip.fullName.tolist())"
   ]
  },
  {
   "cell_type": "code",
   "execution_count": 60,
   "metadata": {},
   "outputs": [],
   "source": [
    "entries = pd.DataFrame(columns = ['year', \"longFrom\", \"latFrom\", \"longTo\", \"latTo\"])\n",
    "for name in listOfNames:\n",
    "    long = 0\n",
    "    lat = 51\n",
    "    \n",
    "    for _, entry in dip[dip.fullName ==name].iterrows():\n",
    "\n",
    "        entries = entries.append(pd.Series({\"year\": entry.yearPostingStart, \n",
    "                        \"longFrom\": long, \n",
    "                        \"latFrom\": lat, \n",
    "                        \"longTo\": entry.CapitalLongitude, \n",
    "                        \"latTo\": entry.CapitalLatitude}), ignore_index=True)\n",
    "        long = entry.CapitalLongitude\n",
    "        lat = entry.CapitalLatitude\n",
    "                   "
   ]
  },
  {
   "cell_type": "code",
   "execution_count": 63,
   "metadata": {},
   "outputs": [],
   "source": [
    "entries = entries.dropna()"
   ]
  },
  {
   "cell_type": "code",
   "execution_count": 77,
   "metadata": {},
   "outputs": [],
   "source": [
    "def drawlines(entriesYear, title):\n",
    "    plt.figure(figsize=(120,60))\n",
    "\n",
    "    m = Basemap(resolution='c', # c, l, i, h, f or None\n",
    "                projection='cyl',\n",
    "                fix_aspect=True)\n",
    "    plt.title(title, fontsize=120)\n",
    "\n",
    "    # m.drawmapboundary(fill_color='#46bcec')\n",
    "    m.drawcoastlines()#color='#f2f2f2',lake_color='#46bcec')\n",
    "    m.drawcountries(antialiased=False)\n",
    "    \n",
    "    for _, row in entriesYear.iterrows():\n",
    "        m.drawgreatcircle(row.longFrom,\\\n",
    "                          row.latFrom, \\\n",
    "                          row.longTo,\\\n",
    "                          row.latTo, del_s =1, lw=20, alpha=0.4, color='b')\n",
    "    plt.savefig(\"paths_by_year/\"+title+\".pdf\")\n",
    "    plt.close()"
   ]
  },
  {
   "cell_type": "code",
   "execution_count": 82,
   "metadata": {},
   "outputs": [
    {
     "name": "stdout",
     "output_type": "stream",
     "text": [
      "1772.0\n"
     ]
    },
    {
     "name": "stderr",
     "output_type": "stream",
     "text": [
      "/Users/gordon.blackadder/anaconda3/lib/python3.6/site-packages/mpl_toolkits/basemap/__init__.py:3260: MatplotlibDeprecationWarning: The ishold function was deprecated in version 2.0.\n",
      "  b = ax.ishold()\n",
      "/Users/gordon.blackadder/anaconda3/lib/python3.6/site-packages/mpl_toolkits/basemap/__init__.py:3269: MatplotlibDeprecationWarning: axes.hold is deprecated.\n",
      "    See the API Changes document (http://matplotlib.org/api/api_changes.html)\n",
      "    for more details.\n",
      "  ax.hold(b)\n"
     ]
    },
    {
     "name": "stdout",
     "output_type": "stream",
     "text": [
      "1775.0\n",
      "1777.0\n",
      "1783.0\n",
      "1784.0\n",
      "1785.0\n",
      "1787.0\n",
      "1788.0\n",
      "1789.0\n",
      "1790.0\n",
      "1791.0\n",
      "1792.0\n",
      "1793.0\n",
      "1794.0\n",
      "1795.0\n",
      "1796.0\n",
      "1798.0\n",
      "1799.0\n",
      "1800.0\n",
      "1801.0\n",
      "1802.0\n",
      "1803.0\n",
      "1804.0\n",
      "1806.0\n",
      "1807.0\n",
      "1808.0\n",
      "1809.0\n",
      "1810.0\n",
      "1811.0\n",
      "1812.0\n",
      "1813.0\n",
      "1814.0\n",
      "1815.0\n",
      "1816.0\n",
      "1817.0\n",
      "1820.0\n",
      "1821.0\n",
      "1823.0\n",
      "1824.0\n",
      "1825.0\n",
      "1826.0\n",
      "1827.0\n",
      "1828.0\n",
      "1829.0\n",
      "1830.0\n",
      "1831.0\n",
      "1832.0\n",
      "1833.0\n",
      "1834.0\n",
      "1835.0\n",
      "1836.0\n",
      "1837.0\n",
      "1838.0\n",
      "1839.0\n",
      "1840.0\n",
      "1841.0\n",
      "1842.0\n",
      "1843.0\n",
      "1844.0\n",
      "1845.0\n",
      "1846.0\n",
      "1847.0\n",
      "1848.0\n",
      "1849.0\n",
      "1850.0\n",
      "1851.0\n",
      "1852.0\n",
      "1853.0\n",
      "1854.0\n",
      "1855.0\n",
      "1856.0\n",
      "1857.0\n",
      "1858.0\n",
      "1859.0\n",
      "1860.0\n",
      "1861.0\n",
      "1862.0\n",
      "1863.0\n",
      "1864.0\n",
      "1865.0\n",
      "1866.0\n",
      "1867.0\n",
      "1868.0\n",
      "1869.0\n",
      "1870.0\n",
      "1871.0\n",
      "1872.0\n",
      "1873.0\n",
      "1874.0\n",
      "1875.0\n",
      "1876.0\n",
      "1877.0\n",
      "1878.0\n",
      "1879.0\n",
      "1880.0\n",
      "1881.0\n",
      "1882.0\n",
      "1883.0\n",
      "1884.0\n",
      "1885.0\n",
      "1886.0\n",
      "1887.0\n",
      "1888.0\n",
      "1889.0\n",
      "1890.0\n",
      "1891.0\n",
      "1892.0\n",
      "1893.0\n",
      "1894.0\n",
      "1895.0\n",
      "1896.0\n",
      "1897.0\n",
      "1898.0\n",
      "1899.0\n",
      "1900.0\n",
      "1901.0\n",
      "1902.0\n",
      "1903.0\n",
      "1904.0\n",
      "1905.0\n",
      "1906.0\n",
      "1907.0\n",
      "1908.0\n",
      "1909.0\n",
      "1910.0\n",
      "1911.0\n",
      "1912.0\n",
      "1913.0\n",
      "1914.0\n",
      "1915.0\n",
      "1916.0\n",
      "1917.0\n",
      "1918.0\n",
      "1919.0\n",
      "1920.0\n",
      "1921.0\n",
      "1922.0\n",
      "1923.0\n",
      "1924.0\n",
      "1925.0\n",
      "1926.0\n",
      "1927.0\n",
      "1928.0\n",
      "1929.0\n",
      "1930.0\n",
      "1931.0\n",
      "1932.0\n",
      "1933.0\n",
      "1934.0\n",
      "1935.0\n",
      "1936.0\n",
      "1937.0\n",
      "1938.0\n",
      "1939.0\n",
      "1940.0\n",
      "1941.0\n",
      "1942.0\n",
      "1943.0\n",
      "1944.0\n",
      "1945.0\n",
      "1946.0\n",
      "1947.0\n",
      "1948.0\n",
      "1949.0\n",
      "1950.0\n",
      "1951.0\n",
      "1952.0\n",
      "1953.0\n",
      "1954.0\n",
      "1955.0\n",
      "1956.0\n",
      "1957.0\n",
      "1958.0\n",
      "1959.0\n",
      "1960.0\n",
      "1961.0\n",
      "1962.0\n",
      "1963.0\n",
      "1964.0\n",
      "1965.0\n",
      "1966.0\n",
      "1967.0\n",
      "1968.0\n",
      "1969.0\n",
      "1970.0\n",
      "1971.0\n",
      "1972.0\n",
      "1973.0\n",
      "1974.0\n",
      "1975.0\n",
      "1976.0\n",
      "1977.0\n",
      "1978.0\n",
      "1979.0\n",
      "1980.0\n",
      "1981.0\n",
      "1982.0\n",
      "1983.0\n",
      "1984.0\n",
      "1985.0\n",
      "1986.0\n",
      "1987.0\n",
      "1988.0\n",
      "1989.0\n",
      "1990.0\n",
      "1991.0\n",
      "1992.0\n",
      "1993.0\n",
      "1994.0\n",
      "1995.0\n",
      "1996.0\n",
      "1997.0\n",
      "1998.0\n",
      "1999.0\n",
      "2000.0\n",
      "2001.0\n",
      "2002.0\n",
      "2003.0\n",
      "2004.0\n",
      "2005.0\n",
      "2006.0\n",
      "2007.0\n",
      "2008.0\n",
      "2009.0\n",
      "2010.0\n",
      "2011.0\n",
      "2012.0\n",
      "2013.0\n",
      "2014.0\n",
      "2015.0\n",
      "2016.0\n",
      "2017.0\n",
      "2018.0\n",
      "18881894.0\n",
      "19601963.0\n",
      "20072011.0\n"
     ]
    }
   ],
   "source": [
    "for yearVal in np.unique(entries.year.tolist()):\n",
    "    print(yearVal)\n",
    "    drawlines(entries[entries.year == yearVal], \"{}\".format(int(yearVal)))"
   ]
  },
  {
   "cell_type": "code",
   "execution_count": null,
   "metadata": {},
   "outputs": [],
   "source": []
  }
 ],
 "metadata": {
  "kernelspec": {
   "display_name": "Python 3",
   "language": "python",
   "name": "python3"
  },
  "language_info": {
   "codemirror_mode": {
    "name": "ipython",
    "version": 3
   },
   "file_extension": ".py",
   "mimetype": "text/x-python",
   "name": "python",
   "nbconvert_exporter": "python",
   "pygments_lexer": "ipython3",
   "version": "3.6.3"
  }
 },
 "nbformat": 4,
 "nbformat_minor": 2
}
